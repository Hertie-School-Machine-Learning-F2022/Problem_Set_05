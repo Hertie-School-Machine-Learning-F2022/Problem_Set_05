{
  "nbformat": 4,
  "nbformat_minor": 0,
  "metadata": {
    "colab": {
      "provenance": [],
      "authorship_tag": "ABX9TyPt6FfexaKAkTWucOyEEn8W",
      "include_colab_link": true
    },
    "kernelspec": {
      "name": "python3",
      "display_name": "Python 3"
    },
    "language_info": {
      "name": "python"
    }
  },
  "cells": [
    {
      "cell_type": "markdown",
      "metadata": {
        "id": "view-in-github",
        "colab_type": "text"
      },
      "source": [
        "<a href=\"https://colab.research.google.com/github/Hertie-School-Machine-Learning-F2022/Problem_Set_09/blob/main/Problem_set_05.ipynb\" target=\"_parent\"><img src=\"https://colab.research.google.com/assets/colab-badge.svg\" alt=\"Open In Colab\"/></a>"
      ]
    },
    {
      "cell_type": "markdown",
      "source": [
        "## Problem Set 05 \n",
        "## Students Names: \n",
        "## Lab: \n",
        "## Date: "
      ],
      "metadata": {
        "id": "sIj8NXKg-a4c"
      }
    },
    {
      "cell_type": "code",
      "source": [
        "# We have three lists: x, y and z\n",
        "\n",
        "x = [1.2, 1.01, 0.69, 0.75, 1.21, 0.88, -0.84, 0.89, 0.74, 0.92, 0.87, -0.83, -0.72, 0.96, 1.61, 0.64, \n",
        "     0.59, -0.68, 0.68, -1.14, 0.95, 1.66, 0.66, 1.22, -1.9, -1.07, 1.46, 0.48, 0.42, 0.48, 1.46, -0.78, \n",
        "     -0.76, 0.75, 0.99, 1.77, 1.71, 1.1, -1.38, -0.74, -0.83, 1.25, -1.49, 1.08, 0.43, 1.74, -0.29, 0.86,\n",
        "     -1.65, 1.9, 0.3, -1.92, 0.69, 1.52, 1.33, -0.71, 0.56, 0.82, 1.06, -1.38, 0.49, -1.2, 0.35, 0.92, 0.44, \n",
        "     0.79, -0.72, 1.87, 1.22, -0.9, -1.94, 1.21, 0.81, 0.64, -1.03, 1.62, 1.55, -0.05, 1.11, -1.56, 1.32, \n",
        "     -0.79, 0.73, 0.81, 1.11, 1.16, 0.43, -1.44, -1.28, -0.69, 1.1, 1.0, 0.57, 0.61, -1.31, 1.45, -0.78, -1.5,\n",
        "     -1.2, 0.95]\n",
        "\n",
        "y = [-1.97, -1.31, 4.39, -1.0, -1.8, 4.53, 8.1, 5.01, 4.46, -1.99, -2.43, 7.73, 7.62, -1.82, 4.05, 4.13, 4.8,\n",
        "     7.75, 4.77, 8.1, -1.4, -0.6, -0.62, 3.88, 8.17, 7.8, -0.86, 5.24, -2.52, 4.81, 4.41, 7.3, 7.26, 4.52, 4.64,\n",
        "     -1.71, 4.63, -0.93, 7.86, 8.19, 8.45, -0.38, 7.81, -1.32, -0.78, 4.59, 7.61, 3.48, 7.14, 5.07, 8.26, 8.55, \n",
        "     4.18, 4.55, -1.48, 7.97, -0.9, 4.12, 3.87, 7.75, -1.49, 7.34, 4.77, -2.04, 5.0, -1.22, 8.41, 4.39, -2.09, \n",
        "     6.97, 7.85, 4.71, 4.33, 4.24, 7.83, -1.43, -1.07, -2.1, 3.82, 7.6, -2.27, 7.5, -1.67, -1.33, -0.98, 4.27,\n",
        "     4.62, 8.18, 8.46, 7.92, 4.29, 4.82, -2.12, -1.8, 8.71, 4.61, 7.69, 7.65, 8.29, -1.94]\n",
        "\n",
        "z = [2.11, 2.9, 1.82, 3.04, 3.18, 1.56, 9.87, 1.87, 1.67, 3.06, 2.6, 9.83, 7.52, 3.07, 3.33, 1.68, 1.09, 8.89,\n",
        "     1.93, 8.92, 2.46, 3.56, 1.77, 2.25, 9.49, 9.03, 2.03, 1.93, 2.96, 2.23, 2.61, 8.83, 9.05, 2.04, 1.27, 3.59, \n",
        "     1.87, 3.86, 8.58, 8.91, 8.38, 3.7, 9.56, 1.95, 3.02, 2.13, 8.73, 1.74, 9.18, 1.33, 8.7, 9.39, 2.81, 2.34, \n",
        "     2.17, 9.58, 1.92, 2.62, 1.95, 8.93, 2.27, 8.87, 1.6, 3.12, 2.95, 2.05, 8.89, 1.19, 2.53, 9.33, 8.87, 2.51, \n",
        "     2.79, 2.37, 9.1, 2.71, 2.84, 2.04, 2.24, 8.52, 2.38, 9.34, 1.81, 3.04, 2.73, 2.36, 1.86, 9.45, 9.42, 8.8, \n",
        "     1.99, 1.42, 3.02, 2.14, 9.11, 2.06, 8.79, 9.41, 9.78, 3.16]"
      ],
      "metadata": {
        "id": "7OghE3cd9JUJ"
      },
      "execution_count": null,
      "outputs": []
    },
    {
      "cell_type": "markdown",
      "source": [
        "1. Plot the three possible scatter plots with the lists above"
      ],
      "metadata": {
        "id": "TYMVTc1890Jb"
      }
    },
    {
      "cell_type": "code",
      "source": [
        "import matplotlib.pyplot as plt\n",
        "\n",
        "# Plot x againts y\n",
        "\n",
        "\n",
        "# Plot y againts z\n",
        "\n",
        "\n",
        "# Plot x againts z\n"
      ],
      "metadata": {
        "id": "2Zt7LEZ61mQ1"
      },
      "execution_count": null,
      "outputs": []
    },
    {
      "cell_type": "markdown",
      "source": [
        "The list above are the coordinates of points, list x is the first position, list y is the second position, and list z is the third position.\n",
        "\n",
        "2. Merge the lists in such a way, that each point has it's three coordinates inside of a parenthesis, save all points as a list called data.\n",
        "\n",
        "It should look like this: `data = [(1.2, -1.97, 2.11), (1.01, -1.31, 2.9)... ]`\n",
        "\n",
        "(Hint: the zip function should come in handy for this)"
      ],
      "metadata": {
        "id": "YTc7Kxct-AEg"
      }
    },
    {
      "cell_type": "code",
      "source": [
        "# Write your code here \n",
        "\n",
        "data = \n",
        "\n"
      ],
      "metadata": {
        "id": "YUgy_GkL19F0"
      },
      "execution_count": null,
      "outputs": []
    },
    {
      "cell_type": "markdown",
      "source": [
        "How many points are in the list?\n",
        "\n",
        "**Your answer:**\n",
        "\n",
        "\n",
        "What are the coordinates of the third point (Index from 0)?\n",
        "\n",
        "**Your answer:**"
      ],
      "metadata": {
        "id": "SCAXtKJd-WDH"
      }
    },
    {
      "cell_type": "markdown",
      "source": [
        "3. Using a loop, create 10 different KMeans models, with the number of clusters starting at 1 and ending at 10. \n",
        "\n",
        "\n",
        "That is, you should have 10 models: model 1 should be initiated with K = 1, model 2 should be initiated with K = 2... \n",
        "\n",
        "\n",
        "Save the inertias of each model in a list. (Hint: inertia is an attribute of KMeans https://scikit-learn.org/stable/modules/generated/sklearn.cluster.KMeans.html#sklearn.cluster.KMeans)\n"
      ],
      "metadata": {
        "id": "fy6KwP5f-tMY"
      }
    },
    {
      "cell_type": "code",
      "source": [
        "# write your code here\n",
        "\n"
      ],
      "metadata": {
        "id": "lC4FG_bH2ZU5"
      },
      "execution_count": null,
      "outputs": []
    },
    {
      "cell_type": "markdown",
      "source": [
        "4. Create a plot where the y-axis is the inertias stored earlier, and the x-axis is the number of clusters, to observe the \"elbow method\" (a simple google search should help you understand what the elbow method is). \n",
        "\n",
        "You can see the \"elbow\" on the graph (where the interia becomes almost linear)."
      ],
      "metadata": {
        "id": "WF2PRQBO_Mgy"
      }
    },
    {
      "cell_type": "code",
      "source": [
        "# write your code here \n",
        "\n"
      ],
      "metadata": {
        "id": "K7IqNvc42qRJ"
      },
      "execution_count": null,
      "outputs": []
    },
    {
      "cell_type": "markdown",
      "source": [
        "How many cluster does the elbow method suggest are enough for our data? (Hint: Where is the elbow?)\n",
        "\n",
        "**Your answer here:**\n",
        "\n",
        "K = "
      ],
      "metadata": {
        "id": "oxvQ8P0b_jCa"
      }
    },
    {
      "cell_type": "markdown",
      "source": [
        "5. Fit one last Kmeans cluster model setting K to equal the number of clusters selected above. \n"
      ],
      "metadata": {
        "id": "z98EAUS8_-rD"
      }
    },
    {
      "cell_type": "code",
      "source": [
        "# Write your code here \n",
        "\n"
      ],
      "metadata": {
        "id": "1gnlvelo2B9K"
      },
      "execution_count": null,
      "outputs": []
    },
    {
      "cell_type": "markdown",
      "source": [
        "6. Plot three plots as you first did, with the different colors identifying the clusters that were created.\n",
        "\n",
        "(Hint: the \"labels\" attribute of KMeans should help you color the points accoriding to their cluster)"
      ],
      "metadata": {
        "id": "w3J6Bio6ARD9"
      }
    },
    {
      "cell_type": "code",
      "source": [
        "# Plot x against y \n",
        "\n",
        "\n",
        "# Plot y against z \n",
        "\n",
        "\n",
        "# Plot x against z \n",
        "\n"
      ],
      "metadata": {
        "id": "9qE2ryTSAbXk"
      },
      "execution_count": null,
      "outputs": []
    },
    {
      "cell_type": "markdown",
      "source": [
        "7. Describe in your own words what is happening with the clustering, making sure to explain the role of inetria as a measure in the elbow method. \n",
        "\n",
        "**Your answer:**"
      ],
      "metadata": {
        "id": "NIdowirjAfGA"
      }
    }
  ]
}